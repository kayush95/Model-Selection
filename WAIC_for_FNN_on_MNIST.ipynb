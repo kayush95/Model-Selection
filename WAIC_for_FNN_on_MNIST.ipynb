{
 "cells": [
  {
   "cell_type": "code",
   "execution_count": 1,
   "metadata": {},
   "outputs": [],
   "source": [
    "import matplotlib.pyplot as plt\n",
    "plt.switch_backend('agg')\n",
    "import numpy as np\n",
    "import pandas as pd\n",
    "import seaborn as sns\n",
    "sns.set_style('white')\n",
    "sns.set_context('talk')\n",
    "\n",
    "import pymc3 as pm\n",
    "import theano.tensor as T\n",
    "import theano\n",
    "\n",
    "from scipy.stats import mode, chisquare\n",
    "\n",
    "from sklearn.metrics import confusion_matrix, accuracy_score\n",
    "\n",
    "import lasagne\n",
    "\n",
    "import sys, os"
   ]
  },
  {
   "cell_type": "code",
   "execution_count": 2,
   "metadata": {},
   "outputs": [],
   "source": [
    "def load_dataset():\n",
    "    # We first define a download function, supporting both Python 2 and 3.\n",
    "    if sys.version_info[0] == 2:\n",
    "        from urllib import urlretrieve\n",
    "    else:\n",
    "        from urllib.request import urlretrieve\n",
    "    def download(filename, source='http://yann.lecun.com/exdb/mnist/'):\n",
    "        print(\"Downloading %s\" % filename)\n",
    "        urlretrieve(source + filename, filename)\n",
    "    # We then define functions for loading MNIST images and labels.\n",
    "    # For convenience, they also download the requested files if needed.\n",
    "    import gzip\n",
    "    # Check for data in folder, if not download\n",
    "    def load_mnist_images(filename):\n",
    "        if not os.path.exists(filename):\n",
    "            download(filename)\n",
    "        # Read the inputs in Yann LeCun's binary format.\n",
    "        with gzip.open(filename, 'rb') as f:\n",
    "            data = np.frombuffer(f.read(), np.uint8, offset=16)\n",
    "        # The inputs are vectors now, we reshape them to monochrome 2D images,\n",
    "        # following the shape convention: (examples, channels, rows, columns)\n",
    "        data = data.reshape(-1, 1, 28, 28)\n",
    "        # The inputs come as bytes, we convert them to float32 in range [0,1].\n",
    "        # (Actually to range [0, 255/256], for compatibility to the version\n",
    "        # provided at http://deeplearning.net/data/mnist/mnist.pkl.gz.)\n",
    "        return data / np.float32(256)\n",
    "    #Load labels\n",
    "    def load_mnist_labels(filename):\n",
    "        if not os.path.exists(filename):\n",
    "            download(filename)\n",
    "        # Read the labels in Yann LeCun's binary format.\n",
    "        with gzip.open(filename, 'rb') as f:\n",
    "            data = np.frombuffer(f.read(), np.uint8, offset=8)\n",
    "        # The labels are vectors of integers now, that's exactly what we want.\n",
    "        return data\n",
    "    # We can now download and read the training and test set images and labels.\n",
    "    X_train = load_mnist_images('train-images-idx3-ubyte.gz')\n",
    "    y_train = load_mnist_labels('train-labels-idx1-ubyte.gz')\n",
    "    X_test = load_mnist_images('t10k-images-idx3-ubyte.gz')\n",
    "    y_test = load_mnist_labels('t10k-labels-idx1-ubyte.gz')\n",
    "    # We reserve the last 10000 training examples for validation.\n",
    "    X_train, X_val = X_train[:-10000], X_train[-10000:]\n",
    "    y_train, y_val = y_train[:-10000], y_train[-10000:]\n",
    "    # We just return all the arrays in order, as expected in main().\n",
    "    # (It doesn't matter how we do this as long as we can read them again.)\n",
    "    return X_train, y_train, X_val, y_val, X_test, y_test"
   ]
  },
  {
   "cell_type": "code",
   "execution_count": 3,
   "metadata": {},
   "outputs": [
    {
     "name": "stdout",
     "output_type": "stream",
     "text": [
      "Loading data...\n"
     ]
    }
   ],
   "source": [
    "print(\"Loading data...\")\n",
    "X_train, y_train, X_val, y_val, X_test, y_test = load_dataset()\n",
    "# Building a theano.shared variable with a subset of the data to make construction of the model faster.\n",
    "input_var = theano.shared(X_train.astype(np.float64))\n",
    "target_var = theano.shared(y_train.astype(np.float64))"
   ]
  },
  {
   "cell_type": "code",
   "execution_count": 4,
   "metadata": {},
   "outputs": [],
   "source": [
    "def build_ann(initw, initb, input_var, target_var):\n",
    "    l_in = lasagne.layers.InputLayer(shape=(None, 1, 28, 28),\n",
    "                                     input_var=input_var)\n",
    "    # Add a fully-connected layer of 600 units, using the linear rectifier, and\n",
    "    # initializing weights with Glorot's scheme (which is the default anyway):\n",
    "    with pm.Model() as neural_network:\n",
    "        n_hid1 = 600\n",
    "        l_hid1 = lasagne.layers.DenseLayer(\n",
    "            l_in, num_units=n_hid1,\n",
    "            nonlinearity=lasagne.nonlinearities.tanh,\n",
    "            b=initw,\n",
    "            W=initb\n",
    "        )\n",
    "        n_hid2 = 600\n",
    "        # Another 600-unit layer:\n",
    "        l_hid2 = lasagne.layers.DenseLayer(\n",
    "            l_hid1, num_units=n_hid2,\n",
    "            nonlinearity=lasagne.nonlinearities.tanh,\n",
    "            b=initw,\n",
    "            W=initb\n",
    "        )\n",
    "        # Finally, we'll add the fully-connected output layer, of 10 softmax units:\n",
    "        l_out = lasagne.layers.DenseLayer(\n",
    "            l_hid2, num_units=10,\n",
    "            nonlinearity=lasagne.nonlinearities.softmax,\n",
    "            b=initw,\n",
    "            W=initb\n",
    "        )\n",
    "        prediction = lasagne.layers.get_output(l_out)\n",
    "        # 10 discrete output classes -> pymc3 categorical distribution\n",
    "        out = pm.Categorical('out', \n",
    "                            prediction,\n",
    "                            observed=target_var,\n",
    "                            total_size=y_train.shape[0])\n",
    "    return neural_network"
   ]
  },
  {
   "cell_type": "code",
   "execution_count": 5,
   "metadata": {},
   "outputs": [],
   "source": [
    "class GaussWeights(object):\n",
    "    def __init__(self):\n",
    "        self.count = 0\n",
    "    def __call__(self, shape):\n",
    "        self.count += 1\n",
    "        return pm.Normal('w%d' % self.count, mu=0, sd=0.1, \n",
    "                         testval=np.random.normal(size=shape).astype(np.float64),\n",
    "                         shape=shape)"
   ]
  },
  {
   "cell_type": "code",
   "execution_count": 6,
   "metadata": {},
   "outputs": [],
   "source": [
    "class GaussBiases(object):\n",
    "    def __init__(self):\n",
    "        self.count = 0\n",
    "    def __call__(self, shape):\n",
    "        self.count += 1\n",
    "        return pm.Normal('b%d' % self.count, mu=0, sd=3, \n",
    "                         testval=np.random.normal(size=shape).astype(np.float64),\n",
    "                         shape=shape)"
   ]
  },
  {
   "cell_type": "code",
   "execution_count": 7,
   "metadata": {},
   "outputs": [],
   "source": [
    "minibatch_x = pm.Minibatch(X_train, batch_size=500, dtype='float64')\n",
    "minibatch_y = pm.Minibatch(y_train, batch_size=500, dtype='float64')"
   ]
  },
  {
   "cell_type": "code",
   "execution_count": 8,
   "metadata": {},
   "outputs": [
    {
     "name": "stderr",
     "output_type": "stream",
     "text": [
      "WARNING (theano.tensor.blas): We did not find a dynamic library in the library_dir of the library we use for blas. If you use ATLAS, make sure to compile it with dynamics library.\n",
      "Average Loss = 11,534: 100%|██████████| 10000/10000 [33:21<00:00,  5.00it/s]\n",
      "Finished [100%]: Average Loss = 11,534\n"
     ]
    }
   ],
   "source": [
    "neural_network = build_ann(initw = GaussWeights(), initb = GaussBiases(), input_var = input_var, target_var = target_var)\n",
    "with neural_network:\n",
    "    inference = pm.ADVI()\n",
    "    approx = pm.fit(10000, more_replacements={input_var: minibatch_x, target_var:minibatch_y}, method=inference)"
   ]
  },
  {
   "cell_type": "code",
   "execution_count": 9,
   "metadata": {},
   "outputs": [],
   "source": [
    "trace = approx.sample(draws = 500)\n",
    "trace = trace[200:]\n",
    "#pm.summary(trace).to_csv(\"trace_nuts.csv\")"
   ]
  },
  {
   "cell_type": "code",
   "execution_count": 10,
   "metadata": {},
   "outputs": [
    {
     "name": "stderr",
     "output_type": "stream",
     "text": [
      "/home/waic-team/.local/lib/python3.6/site-packages/pymc3/stats.py:211: UserWarning: For one or more samples the posterior variance of the\n",
      "        log predictive densities exceeds 0.4. This could be indication of\n",
      "        WAIC starting to fail see http://arxiv.org/abs/1507.04544 for details\n",
      "        \n",
      "  \"\"\")\n",
      "/home/waic-team/.local/lib/python3.6/site-packages/pymc3/stats.py:292: UserWarning: Estimated shape parameter of Pareto distribution is\n",
      "        greater than 0.7 for one or more samples.\n",
      "        You should consider using a more robust model, this is because\n",
      "        importance sampling is less likely to work well if the marginal\n",
      "        posterior and LOO posterior are very different. This is more likely to\n",
      "        happen with a non-robust model and highly influential observations.\n",
      "  happen with a non-robust model and highly influential observations.\"\"\")\n"
     ]
    }
   ],
   "source": [
    "waic = pm.waic(trace, neural_network)\n",
    "loo = pm.loo(trace, neural_network)"
   ]
  },
  {
   "cell_type": "code",
   "execution_count": 11,
   "metadata": {},
   "outputs": [
    {
     "name": "stdout",
     "output_type": "stream",
     "text": [
      "WAIC for FNN network:  {10958985.755112128}\n",
      "Posterior variances [2.51101801e+02 4.57226372e-07 8.33738835e+01 ... 8.20526846e+01\n",
      " 1.61261232e+02 4.97779846e+01]\n",
      "LOO for FNN network:  {3667348.736904257}\n",
      "Estimated shape parameters [11.39273784  7.20822309  9.40342594 ...  8.18160689  7.06251507\n",
      "  8.01586653]\n"
     ]
    }
   ],
   "source": [
    "print(\"WAIC for FNN network: \", {waic.WAIC})\n",
    "print(\"Posterior variances\", waic.VARS)\n",
    "print(\"LOO for FNN network: \", {loo.LOO})\n",
    "print(\"Estimated shape parameters\", loo.KS)"
   ]
  },
  {
   "cell_type": "code",
   "execution_count": 12,
   "metadata": {},
   "outputs": [
    {
     "name": "stdout",
     "output_type": "stream",
     "text": [
      "(50000,)\n",
      "Violations of posterior variances: 44894\n",
      "(50000,)\n",
      "Violations of estimated shape parameters: 49998\n"
     ]
    }
   ],
   "source": [
    "print(waic.VARS.shape)\n",
    "count_w = np.sum(waic.VARS > float(0.4))\n",
    "print(\"Violations of posterior variances:\", count_w)\n",
    "print(loo.KS.shape)\n",
    "count_k = np.sum(loo.KS > float(0.7))\n",
    "print(\"Violations of estimated shape parameters:\", count_k)"
   ]
  },
  {
   "cell_type": "code",
   "execution_count": 13,
   "metadata": {},
   "outputs": [
    {
     "data": {
      "text/plain": [
       "Text(0.5,0,'iteration')"
      ]
     },
     "execution_count": 13,
     "metadata": {},
     "output_type": "execute_result"
    },
    {
     "data": {
      "image/png": "[encoded data removed]",
      "text/plain": [
       "<Figure size 432x288 with 1 Axes>"
      ]
     },
     "metadata": {},
     "output_type": "display_data"
    }
   ],
   "source": [
    "plt.plot(-inference.hist)\n",
    "plt.ylabel('ELBO')\n",
    "plt.xlabel('iteration')"
   ]
  },
  {
   "cell_type": "code",
   "execution_count": 14,
   "metadata": {},
   "outputs": [
    {
     "name": "stderr",
     "output_type": "stream",
     "text": [
      "Average Loss = 11,500: 100%|██████████| 10000/10000 [32:34<00:00,  5.12it/s]\n",
      "Finished [100%]: Average Loss = 11,496\n"
     ]
    }
   ],
   "source": [
    "with neural_network:\n",
    "    approx_nuts = pm.fit(10000, more_replacements={input_var: minibatch_x, target_var:minibatch_y})"
   ]
  },
  {
   "cell_type": "code",
   "execution_count": 15,
   "metadata": {},
   "outputs": [],
   "source": [
    "trace_nuts = approx_nuts.sample(draws = 500)\n",
    "trace_nuts = trace_nuts[200:]"
   ]
  },
  {
   "cell_type": "code",
   "execution_count": 16,
   "metadata": {},
   "outputs": [
    {
     "name": "stderr",
     "output_type": "stream",
     "text": [
      "/home/waic-team/.local/lib/python3.6/site-packages/pymc3/stats.py:211: UserWarning: For one or more samples the posterior variance of the\n",
      "        log predictive densities exceeds 0.4. This could be indication of\n",
      "        WAIC starting to fail see http://arxiv.org/abs/1507.04544 for details\n",
      "        \n",
      "  \"\"\")\n",
      "/home/waic-team/.local/lib/python3.6/site-packages/pymc3/stats.py:292: UserWarning: Estimated shape parameter of Pareto distribution is\n",
      "        greater than 0.7 for one or more samples.\n",
      "        You should consider using a more robust model, this is because\n",
      "        importance sampling is less likely to work well if the marginal\n",
      "        posterior and LOO posterior are very different. This is more likely to\n",
      "        happen with a non-robust model and highly influential observations.\n",
      "  happen with a non-robust model and highly influential observations.\"\"\")\n"
     ]
    }
   ],
   "source": [
    "waic_nuts = pm.waic(trace_nuts, neural_network)\n",
    "loo_nuts = pm.loo(trace_nuts, neural_network)"
   ]
  },
  {
   "cell_type": "code",
   "execution_count": 17,
   "metadata": {},
   "outputs": [
    {
     "name": "stdout",
     "output_type": "stream",
     "text": [
      "WAIC for FNN network with NUTS:  {11193230.606055643}\n",
      "Posterior variances [3.09345667e+02 1.90165076e-01 1.82670426e+02 ... 1.39813795e+02\n",
      " 3.13606612e+02 5.56576295e+01]\n",
      "LOO for FNN network with NUTS:  {3694855.2824180787}\n",
      "Estimated shape parameters [12.42345367  8.74077635 12.73222589 ...  8.91997438 13.25141434\n",
      " 10.04765797]\n"
     ]
    }
   ],
   "source": [
    "print(\"WAIC for FNN network with NUTS: \", {waic_nuts.WAIC})\n",
    "print(\"Posterior variances\", waic_nuts.VARS)\n",
    "print(\"LOO for FNN network with NUTS: \", {loo_nuts.LOO})\n",
    "print(\"Estimated shape parameters\", loo_nuts.KS)"
   ]
  },
  {
   "cell_type": "code",
   "execution_count": 18,
   "metadata": {},
   "outputs": [
    {
     "name": "stdout",
     "output_type": "stream",
     "text": [
      "(50000,)\n",
      "Violations of posterior variances: 45063\n",
      "(50000,)\n",
      "Violations of estimated shape parameters: 49998\n"
     ]
    }
   ],
   "source": [
    "print(waic_nuts.VARS.shape)\n",
    "count_w_nuts = np.sum(waic_nuts.VARS > float(0.4))\n",
    "print(\"Violations of posterior variances:\", count_w_nuts)\n",
    "print(loo_nuts.KS.shape)\n",
    "count_k_nuts = np.sum(loo_nuts.KS > float(0.7))\n",
    "print(\"Violations of estimated shape parameters:\", count_k)"
   ]
  },
  {
   "cell_type": "code",
   "execution_count": 19,
   "metadata": {},
   "outputs": [
    {
     "name": "stderr",
     "output_type": "stream",
     "text": [
      "100%|██████████| 100/100 [01:37<00:00,  1.03it/s]\n",
      "  0%|          | 0/100 [00:00<?, ?it/s]"
     ]
    },
    {
     "name": "stdout",
     "output_type": "stream",
     "text": [
      "Accuracy on test data for FNN with ADVI= 92.13%\n"
     ]
    },
    {
     "name": "stderr",
     "output_type": "stream",
     "text": [
      "100%|██████████| 100/100 [01:37<00:00,  1.03it/s]"
     ]
    },
    {
     "name": "stdout",
     "output_type": "stream",
     "text": [
      "Accuracy on test data for FNN with NUTS= 92.11%\n"
     ]
    },
    {
     "name": "stderr",
     "output_type": "stream",
     "text": [
      "\n"
     ]
    }
   ],
   "source": [
    "input_var.set_value(X_test)\n",
    "target_var.set_value(y_test)\n",
    "\n",
    "\n",
    "with neural_network:\n",
    "    ppc = pm.sample_ppc(trace, samples=100)\n",
    "\n",
    "y_pred = mode(ppc['out'], axis=0).mode[0, :]\n",
    "\n",
    "print('Accuracy on test data for FNN with ADVI= {}%'.format(accuracy_score(y_test, y_pred) * 100))\n",
    "\n",
    "\n",
    "with neural_network:\n",
    "    ppc_nuts = pm.sample_ppc(trace_nuts, samples=100)\n",
    "\n",
    "y_pred_nuts = mode(ppc_nuts['out'], axis=0).mode[0, :]\n",
    "\n",
    "print('Accuracy on test data for FNN with NUTS= {}%'.format(accuracy_score(y_test, y_pred_nuts) * 100))"
   ]
  }
 ],
 "metadata": {
  "kernelspec": {
   "display_name": "Python 3",
   "language": "python",
   "name": "python3"
  },
  "language_info": {
   "codemirror_mode": {
    "name": "ipython",
    "version": 3
   },
   "file_extension": ".py",
   "mimetype": "text/x-python",
   "name": "python",
   "nbconvert_exporter": "python",
   "pygments_lexer": "ipython3",
   "version": "3.6.6"
  }
 },
 "nbformat": 4,
 "nbformat_minor": 2
}
